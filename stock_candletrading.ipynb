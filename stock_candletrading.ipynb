{
 "cells": [
  {
   "cell_type": "code",
   "execution_count": 91,
   "metadata": {},
   "outputs": [
    {
     "data": {
      "text/html": [
       "<script>requirejs.config({paths: { 'plotly': ['https://cdn.plot.ly/plotly-latest.min']},});if(!window.Plotly) {{require(['plotly'],function(plotly) {window.Plotly=plotly;});}}</script>"
      ],
      "text/vnd.plotly.v1+html": [
       "<script>requirejs.config({paths: { 'plotly': ['https://cdn.plot.ly/plotly-latest.min']},});if(!window.Plotly) {{require(['plotly'],function(plotly) {window.Plotly=plotly;});}}</script>"
      ]
     },
     "metadata": {},
     "output_type": "display_data"
    }
   ],
   "source": [
    "import pandas as pd\n",
    "import json\n",
    "from datetime import datetime\n",
    "import plotly.plotly as py\n",
    "import urllib2\n",
    "import plotly.graph_objs as go\n",
    "from plotly.offline import download_plotlyjs, init_notebook_mode, plot, iplot\n",
    "\n",
    "#base_url = \"https://www.indeed.com\"    \n",
    "#proxy = urllib2.ProxyHandler({'https': uname+'@inet-proxy-b.appl.swissbank.com:8080'})\n",
    "#urllib2.install_opener(urllib2.build_opener(proxy))\n",
    "init_notebook_mode(connected=True)"
   ]
  },
  {
   "cell_type": "code",
   "execution_count": 131,
   "metadata": {
    "collapsed": true
   },
   "outputs": [],
   "source": [
    "d = urllib2.urlopen(\"https://query1.finance.yahoo.com/v7/finance/chart/ASHOKLEY.NS?&interval=5m\")"
   ]
  },
  {
   "cell_type": "code",
   "execution_count": 132,
   "metadata": {
    "collapsed": true
   },
   "outputs": [],
   "source": [
    "data = \"\"\"{\"chart\":{\"result\":[{\"meta\":{\"currency\":\"INR\",\"symbol\":\"ASHOKLEY.NS\",\"exchangeName\":\"NSI\",\"instrumentType\":\"EQUITY\",\"firstTradeDate\":1025495100,\"gmtoffset\":19800,\"timezone\":\"IST\",\"exchangeTimezoneName\":\"Asia/Kolkata\",\"chartPreviousClose\":103.0,\"previousClose\":103.0,\"scale\":3,\"priceHint\":2,\"currentTradingPeriod\":{\"pre\":{\"timezone\":\"IST\",\"start\":1545968700,\"end\":1545968700,\"gmtoffset\":19800},\"regular\":{\"timezone\":\"IST\",\"start\":1545968700,\"end\":1545991200,\"gmtoffset\":19800},\"post\":{\"timezone\":\"IST\",\"start\":1545991200,\"end\":1545991200,\"gmtoffset\":19800}},\"tradingPeriods\":[[{\"timezone\":\"IST\",\"start\":1545968700,\"end\":1545991200,\"gmtoffset\":19800}]],\"dataGranularity\":\"15m\",\"validRanges\":[\"1d\",\"5d\",\"1mo\",\"3mo\",\"6mo\",\"1y\",\"2y\",\"5y\",\"10y\",\"ytd\",\"max\"]},\"timestamp\":[1545968700,1545969600,1545970500,1545971400,1545972300,1545973200,1545974100,1545975000,1545975900,1545976800,1545977700,1545978600,1545979500,1545980400,1545981300,1545982200,1545983100,1545984000,1545984900,1545985800,1545986700,1545987600,1545988500,1545989400,1545990300],\"indicators\":{\"quote\":[{\"close\":[103.69999694824219,103.6500015258789,103.75,104.1500015258789,104.19999694824219,104.0999984741211,104.0999984741211,103.9000015258789,104.05000305175781,103.5,103.5999984741211,103.69999694824219,103.69999694824219,103.69999694824219,103.75,103.6500015258789,103.69999694824219,103.44999694824219,103.25,102.80000305175781,103.0,103.0,102.80000305175781,102.75,103.0],\"high\":[103.9000015258789,103.9000015258789,103.80000305175781,104.3499984741211,104.30000305175781,104.30000305175781,104.19999694824219,104.0999984741211,104.05000305175781,104.0,103.69999694824219,103.75,103.75,103.69999694824219,103.75,103.75,103.75,103.75,103.4000015258789,103.25,103.1500015258789,103.0,103.0,103.0,103.0],\"low\":[103.44999694824219,103.5,103.5999984741211,103.80000305175781,104.05000305175781,104.0999984741211,104.05000305175781,103.69999694824219,103.75,103.44999694824219,103.5,103.55000305175781,103.6500015258789,103.55000305175781,103.5999984741211,103.6500015258789,103.6500015258789,103.30000305175781,103.1500015258789,102.75,102.6500015258789,102.94999694824219,102.6500015258789,102.75,102.5999984741211],\"volume\":[664062,498918,264002,621789,362943,171167,116629,571353,277743,675388,173689,191495,249908,116811,197421,152709,144020,649152,675493,1087128,805672,392577,668986,974856,1340080],\"open\":[103.44999694824219,103.6500015258789,103.5999984741211,103.80000305175781,104.1500015258789,104.19999694824219,104.1500015258789,104.0999984741211,103.8499984741211,104.0,103.5,103.55000305175781,103.69999694824219,103.69999694824219,103.69999694824219,103.75,103.69999694824219,103.69999694824219,103.4000015258789,103.25,102.80000305175781,103.0,103.0,102.9000015258789,102.75]}]}}],\"error\":null}}\"\"\""
   ]
  },
  {
   "cell_type": "code",
   "execution_count": 133,
   "metadata": {},
   "outputs": [],
   "source": [
    "data = d.read()"
   ]
  },
  {
   "cell_type": "code",
   "execution_count": 134,
   "metadata": {},
   "outputs": [
    {
     "data": {
      "text/plain": [
       "'{\"chart\":{\"result\":[{\"meta\":{\"currency\":\"INR\",\"symbol\":\"ASHOKLEY.NS\",\"exchangeName\":\"NSI\",\"instrumentType\":\"EQUITY\",\"firstTradeDate\":1025495100,\"gmtoffset\":19800,\"timezone\":\"IST\",\"exchangeTimezoneName\":\"Asia/Kolkata\",\"chartPreviousClose\":102.5,\"previousClose\":102.5,\"scale\":3,\"priceHint\":2,\"currentTradingPeriod\":{\"pre\":{\"timezone\":\"IST\",\"start\":1546400700,\"end\":1546400700,\"gmtoffset\":19800},\"regular\":{\"timezone\":\"IST\",\"start\":1546400700,\"end\":1546423200,\"gmtoffset\":19800},\"post\":{\"timezone\":\"IST\",\"start\":1546423200,\"end\":1546423200,\"gmtoffset\":19800}},\"tradingPeriods\":[[{\"timezone\":\"IST\",\"start\":1546400700,\"end\":1546423200,\"gmtoffset\":19800}]],\"dataGranularity\":\"5m\",\"validRanges\":[\"1d\",\"5d\",\"1mo\",\"3mo\",\"6mo\",\"1y\",\"2y\",\"5y\",\"10y\",\"max\"]},\"timestamp\":[1546400700,1546401000,1546401300,1546401600,1546401900,1546402200,1546402500,1546402800,1546403100,1546403400,1546403700,1546404000,1546404300],\"indicators\":{\"quote\":[{\"high\":[102.25,102.0,101.69999694824219,101.80000305175781,101.69999694824219,101.25,101.25,101.4000015258789,101.25,101.0999984741211,101.05000305175781,100.9000015258789,null],\"low\":[101.6500015258789,101.4000015258789,101.5999984741211,101.6500015258789,101.25,100.9000015258789,100.69999694824219,100.30000305175781,100.8499984741211,100.80000305175781,100.80000305175781,100.5999984741211,null],\"open\":[102.0,102.0,101.69999694824219,101.6500015258789,101.6500015258789,101.25,101.0,101.4000015258789,101.0999984741211,100.94999694824219,101.0,100.9000015258789,null],\"close\":[101.94999694824219,101.69999694824219,101.6500015258789,101.6500015258789,101.3499984741211,101.0,101.25,101.05000305175781,100.94999694824219,101.0999984741211,100.9000015258789,100.6500015258789,null],\"volume\":[451180,881546,350046,269562,811550,1277514,1132748,3262459,1052780,630054,301877,261638,null]}]}}],\"error\":null}}'"
      ]
     },
     "execution_count": 134,
     "metadata": {},
     "output_type": "execute_result"
    }
   ],
   "source": [
    "data"
   ]
  },
  {
   "cell_type": "code",
   "execution_count": 135,
   "metadata": {},
   "outputs": [],
   "source": [
    "ashok_data = json.loads(data)"
   ]
  },
  {
   "cell_type": "code",
   "execution_count": 136,
   "metadata": {
    "collapsed": true
   },
   "outputs": [],
   "source": [
    "def to_datetime(ts):\n",
    "    return datetime.utcfromtimestamp(ts).strftime('%Y-%m-%d %H:%M:%S')"
   ]
  },
  {
   "cell_type": "code",
   "execution_count": 137,
   "metadata": {},
   "outputs": [
    {
     "data": {
      "text/plain": [
       "[1546400700,\n",
       " 1546401000,\n",
       " 1546401300,\n",
       " 1546401600,\n",
       " 1546401900,\n",
       " 1546402200,\n",
       " 1546402500,\n",
       " 1546402800,\n",
       " 1546403100,\n",
       " 1546403400,\n",
       " 1546403700,\n",
       " 1546404000,\n",
       " 1546404300]"
      ]
     },
     "execution_count": 137,
     "metadata": {},
     "output_type": "execute_result"
    }
   ],
   "source": [
    "ashok_data[\"chart\"][\"result\"][0][\"timestamp\"]"
   ]
  },
  {
   "cell_type": "code",
   "execution_count": 138,
   "metadata": {},
   "outputs": [],
   "source": [
    "required_data = ashok_data[\"chart\"][\"result\"][0][\"indicators\"][\"quote\"][0]\n",
    "required_data[\"date\"] = [to_datetime(w) for w in ashok_data[\"chart\"][\"result\"][0][\"timestamp\"]]"
   ]
  },
  {
   "cell_type": "code",
   "execution_count": 139,
   "metadata": {},
   "outputs": [],
   "source": [
    "df = pd.DataFrame(required_data)"
   ]
  },
  {
   "cell_type": "code",
   "execution_count": 140,
   "metadata": {},
   "outputs": [
    {
     "data": {
      "text/html": [
       "<div>\n",
       "<style>\n",
       "    .dataframe thead tr:only-child th {\n",
       "        text-align: right;\n",
       "    }\n",
       "\n",
       "    .dataframe thead th {\n",
       "        text-align: left;\n",
       "    }\n",
       "\n",
       "    .dataframe tbody tr th {\n",
       "        vertical-align: top;\n",
       "    }\n",
       "</style>\n",
       "<table border=\"1\" class=\"dataframe\">\n",
       "  <thead>\n",
       "    <tr style=\"text-align: right;\">\n",
       "      <th></th>\n",
       "      <th>close</th>\n",
       "      <th>date</th>\n",
       "      <th>high</th>\n",
       "      <th>low</th>\n",
       "      <th>open</th>\n",
       "      <th>volume</th>\n",
       "    </tr>\n",
       "  </thead>\n",
       "  <tbody>\n",
       "    <tr>\n",
       "      <th>0</th>\n",
       "      <td>101.949997</td>\n",
       "      <td>2019-01-02 03:45:00</td>\n",
       "      <td>102.250000</td>\n",
       "      <td>101.650002</td>\n",
       "      <td>102.000000</td>\n",
       "      <td>451180.0</td>\n",
       "    </tr>\n",
       "    <tr>\n",
       "      <th>1</th>\n",
       "      <td>101.699997</td>\n",
       "      <td>2019-01-02 03:50:00</td>\n",
       "      <td>102.000000</td>\n",
       "      <td>101.400002</td>\n",
       "      <td>102.000000</td>\n",
       "      <td>881546.0</td>\n",
       "    </tr>\n",
       "    <tr>\n",
       "      <th>2</th>\n",
       "      <td>101.650002</td>\n",
       "      <td>2019-01-02 03:55:00</td>\n",
       "      <td>101.699997</td>\n",
       "      <td>101.599998</td>\n",
       "      <td>101.699997</td>\n",
       "      <td>350046.0</td>\n",
       "    </tr>\n",
       "    <tr>\n",
       "      <th>3</th>\n",
       "      <td>101.650002</td>\n",
       "      <td>2019-01-02 04:00:00</td>\n",
       "      <td>101.800003</td>\n",
       "      <td>101.650002</td>\n",
       "      <td>101.650002</td>\n",
       "      <td>269562.0</td>\n",
       "    </tr>\n",
       "    <tr>\n",
       "      <th>4</th>\n",
       "      <td>101.349998</td>\n",
       "      <td>2019-01-02 04:05:00</td>\n",
       "      <td>101.699997</td>\n",
       "      <td>101.250000</td>\n",
       "      <td>101.650002</td>\n",
       "      <td>811550.0</td>\n",
       "    </tr>\n",
       "  </tbody>\n",
       "</table>\n",
       "</div>"
      ],
      "text/plain": [
       "        close                 date        high         low        open  \\\n",
       "0  101.949997  2019-01-02 03:45:00  102.250000  101.650002  102.000000   \n",
       "1  101.699997  2019-01-02 03:50:00  102.000000  101.400002  102.000000   \n",
       "2  101.650002  2019-01-02 03:55:00  101.699997  101.599998  101.699997   \n",
       "3  101.650002  2019-01-02 04:00:00  101.800003  101.650002  101.650002   \n",
       "4  101.349998  2019-01-02 04:05:00  101.699997  101.250000  101.650002   \n",
       "\n",
       "     volume  \n",
       "0  451180.0  \n",
       "1  881546.0  \n",
       "2  350046.0  \n",
       "3  269562.0  \n",
       "4  811550.0  "
      ]
     },
     "execution_count": 140,
     "metadata": {},
     "output_type": "execute_result"
    }
   ],
   "source": [
    "df.head()"
   ]
  },
  {
   "cell_type": "code",
   "execution_count": 141,
   "metadata": {
    "collapsed": true
   },
   "outputs": [],
   "source": [
    "df[\"date\"] = pd.to_datetime(df[\"date\"])"
   ]
  },
  {
   "cell_type": "code",
   "execution_count": 142,
   "metadata": {},
   "outputs": [
    {
     "data": {
      "text/html": [
       "<div>\n",
       "<style>\n",
       "    .dataframe thead tr:only-child th {\n",
       "        text-align: right;\n",
       "    }\n",
       "\n",
       "    .dataframe thead th {\n",
       "        text-align: left;\n",
       "    }\n",
       "\n",
       "    .dataframe tbody tr th {\n",
       "        vertical-align: top;\n",
       "    }\n",
       "</style>\n",
       "<table border=\"1\" class=\"dataframe\">\n",
       "  <thead>\n",
       "    <tr style=\"text-align: right;\">\n",
       "      <th></th>\n",
       "      <th>close</th>\n",
       "      <th>date</th>\n",
       "      <th>high</th>\n",
       "      <th>low</th>\n",
       "      <th>open</th>\n",
       "      <th>volume</th>\n",
       "    </tr>\n",
       "  </thead>\n",
       "  <tbody>\n",
       "    <tr>\n",
       "      <th>0</th>\n",
       "      <td>101.949997</td>\n",
       "      <td>2019-01-02 03:45:00</td>\n",
       "      <td>102.250000</td>\n",
       "      <td>101.650002</td>\n",
       "      <td>102.000000</td>\n",
       "      <td>451180.0</td>\n",
       "    </tr>\n",
       "    <tr>\n",
       "      <th>1</th>\n",
       "      <td>101.699997</td>\n",
       "      <td>2019-01-02 03:50:00</td>\n",
       "      <td>102.000000</td>\n",
       "      <td>101.400002</td>\n",
       "      <td>102.000000</td>\n",
       "      <td>881546.0</td>\n",
       "    </tr>\n",
       "    <tr>\n",
       "      <th>2</th>\n",
       "      <td>101.650002</td>\n",
       "      <td>2019-01-02 03:55:00</td>\n",
       "      <td>101.699997</td>\n",
       "      <td>101.599998</td>\n",
       "      <td>101.699997</td>\n",
       "      <td>350046.0</td>\n",
       "    </tr>\n",
       "    <tr>\n",
       "      <th>3</th>\n",
       "      <td>101.650002</td>\n",
       "      <td>2019-01-02 04:00:00</td>\n",
       "      <td>101.800003</td>\n",
       "      <td>101.650002</td>\n",
       "      <td>101.650002</td>\n",
       "      <td>269562.0</td>\n",
       "    </tr>\n",
       "    <tr>\n",
       "      <th>4</th>\n",
       "      <td>101.349998</td>\n",
       "      <td>2019-01-02 04:05:00</td>\n",
       "      <td>101.699997</td>\n",
       "      <td>101.250000</td>\n",
       "      <td>101.650002</td>\n",
       "      <td>811550.0</td>\n",
       "    </tr>\n",
       "  </tbody>\n",
       "</table>\n",
       "</div>"
      ],
      "text/plain": [
       "        close                date        high         low        open  \\\n",
       "0  101.949997 2019-01-02 03:45:00  102.250000  101.650002  102.000000   \n",
       "1  101.699997 2019-01-02 03:50:00  102.000000  101.400002  102.000000   \n",
       "2  101.650002 2019-01-02 03:55:00  101.699997  101.599998  101.699997   \n",
       "3  101.650002 2019-01-02 04:00:00  101.800003  101.650002  101.650002   \n",
       "4  101.349998 2019-01-02 04:05:00  101.699997  101.250000  101.650002   \n",
       "\n",
       "     volume  \n",
       "0  451180.0  \n",
       "1  881546.0  \n",
       "2  350046.0  \n",
       "3  269562.0  \n",
       "4  811550.0  "
      ]
     },
     "execution_count": 142,
     "metadata": {},
     "output_type": "execute_result"
    }
   ],
   "source": [
    "df.head()"
   ]
  },
  {
   "cell_type": "code",
   "execution_count": 143,
   "metadata": {},
   "outputs": [
    {
     "data": {
      "application/vnd.plotly.v1+json": {
       "data": [
        {
         "close": [
          101.94999694824219,
          101.69999694824219,
          101.6500015258789,
          101.6500015258789,
          101.3499984741211,
          101,
          101.25,
          101.05000305175781,
          100.94999694824219,
          101.0999984741211,
          100.9000015258789,
          100.6500015258789,
          null
         ],
         "high": [
          102.25,
          102,
          101.69999694824219,
          101.80000305175781,
          101.69999694824219,
          101.25,
          101.25,
          101.4000015258789,
          101.25,
          101.0999984741211,
          101.05000305175781,
          100.9000015258789,
          null
         ],
         "low": [
          101.6500015258789,
          101.4000015258789,
          101.5999984741211,
          101.6500015258789,
          101.25,
          100.9000015258789,
          100.69999694824219,
          100.30000305175781,
          100.8499984741211,
          100.80000305175781,
          100.80000305175781,
          100.5999984741211,
          null
         ],
         "open": [
          102,
          102,
          101.69999694824219,
          101.6500015258789,
          101.6500015258789,
          101.25,
          101,
          101.4000015258789,
          101.0999984741211,
          100.94999694824219,
          101,
          100.9000015258789,
          null
         ],
         "type": "candlestick",
         "x": [
          "2019-01-02 03:45:00",
          "2019-01-02 03:50:00",
          "2019-01-02 03:55:00",
          "2019-01-02 04:00:00",
          "2019-01-02 04:05:00",
          "2019-01-02 04:10:00",
          "2019-01-02 04:15:00",
          "2019-01-02 04:20:00",
          "2019-01-02 04:25:00",
          "2019-01-02 04:30:00",
          "2019-01-02 04:35:00",
          "2019-01-02 04:40:00",
          "2019-01-02 04:45:00"
         ]
        }
       ],
       "layout": {}
      },
      "text/html": [
       "<div id=\"bf43e593-2d5b-4c7f-beb3-27c1078d6258\" style=\"height: 525px; width: 100%;\" class=\"plotly-graph-div\"></div><script type=\"text/javascript\">require([\"plotly\"], function(Plotly) { window.PLOTLYENV=window.PLOTLYENV || {};window.PLOTLYENV.BASE_URL=\"https://plot.ly\";Plotly.newPlot(\"bf43e593-2d5b-4c7f-beb3-27c1078d6258\", [{\"open\": [102.0, 102.0, 101.69999694824219, 101.6500015258789, 101.6500015258789, 101.25, 101.0, 101.4000015258789, 101.0999984741211, 100.94999694824219, 101.0, 100.9000015258789, null], \"high\": [102.25, 102.0, 101.69999694824219, 101.80000305175781, 101.69999694824219, 101.25, 101.25, 101.4000015258789, 101.25, 101.0999984741211, 101.05000305175781, 100.9000015258789, null], \"low\": [101.6500015258789, 101.4000015258789, 101.5999984741211, 101.6500015258789, 101.25, 100.9000015258789, 100.69999694824219, 100.30000305175781, 100.8499984741211, 100.80000305175781, 100.80000305175781, 100.5999984741211, null], \"close\": [101.94999694824219, 101.69999694824219, 101.6500015258789, 101.6500015258789, 101.3499984741211, 101.0, 101.25, 101.05000305175781, 100.94999694824219, 101.0999984741211, 100.9000015258789, 100.6500015258789, null], \"x\": [\"2019-01-02 03:45:00\", \"2019-01-02 03:50:00\", \"2019-01-02 03:55:00\", \"2019-01-02 04:00:00\", \"2019-01-02 04:05:00\", \"2019-01-02 04:10:00\", \"2019-01-02 04:15:00\", \"2019-01-02 04:20:00\", \"2019-01-02 04:25:00\", \"2019-01-02 04:30:00\", \"2019-01-02 04:35:00\", \"2019-01-02 04:40:00\", \"2019-01-02 04:45:00\"], \"type\": \"candlestick\"}], {}, {\"linkText\": \"Export to plot.ly\", \"showLink\": true})});</script>"
      ],
      "text/vnd.plotly.v1+html": [
       "<div id=\"bf43e593-2d5b-4c7f-beb3-27c1078d6258\" style=\"height: 525px; width: 100%;\" class=\"plotly-graph-div\"></div><script type=\"text/javascript\">require([\"plotly\"], function(Plotly) { window.PLOTLYENV=window.PLOTLYENV || {};window.PLOTLYENV.BASE_URL=\"https://plot.ly\";Plotly.newPlot(\"bf43e593-2d5b-4c7f-beb3-27c1078d6258\", [{\"open\": [102.0, 102.0, 101.69999694824219, 101.6500015258789, 101.6500015258789, 101.25, 101.0, 101.4000015258789, 101.0999984741211, 100.94999694824219, 101.0, 100.9000015258789, null], \"high\": [102.25, 102.0, 101.69999694824219, 101.80000305175781, 101.69999694824219, 101.25, 101.25, 101.4000015258789, 101.25, 101.0999984741211, 101.05000305175781, 100.9000015258789, null], \"low\": [101.6500015258789, 101.4000015258789, 101.5999984741211, 101.6500015258789, 101.25, 100.9000015258789, 100.69999694824219, 100.30000305175781, 100.8499984741211, 100.80000305175781, 100.80000305175781, 100.5999984741211, null], \"close\": [101.94999694824219, 101.69999694824219, 101.6500015258789, 101.6500015258789, 101.3499984741211, 101.0, 101.25, 101.05000305175781, 100.94999694824219, 101.0999984741211, 100.9000015258789, 100.6500015258789, null], \"x\": [\"2019-01-02 03:45:00\", \"2019-01-02 03:50:00\", \"2019-01-02 03:55:00\", \"2019-01-02 04:00:00\", \"2019-01-02 04:05:00\", \"2019-01-02 04:10:00\", \"2019-01-02 04:15:00\", \"2019-01-02 04:20:00\", \"2019-01-02 04:25:00\", \"2019-01-02 04:30:00\", \"2019-01-02 04:35:00\", \"2019-01-02 04:40:00\", \"2019-01-02 04:45:00\"], \"type\": \"candlestick\"}], {}, {\"linkText\": \"Export to plot.ly\", \"showLink\": true})});</script>"
      ]
     },
     "metadata": {},
     "output_type": "display_data"
    }
   ],
   "source": [
    "import plotly.plotly as py\n",
    "import plotly.graph_objs as go\n",
    "\n",
    "from datetime import datetime\n",
    "\n",
    "open_data = df[\"open\"]\n",
    "high_data = df[\"high\"]\n",
    "low_data =  df[\"low\"]\n",
    "close_data = df[\"close\"]\n",
    "dates = df[\"date\"]\n",
    "\n",
    "trace = go.Candlestick(x=dates,\n",
    "                       open=open_data,\n",
    "                       high=high_data,\n",
    "                       low=low_data,\n",
    "                       close=close_data)\n",
    "data = [trace]\n",
    "iplot(data)"
   ]
  },
  {
   "cell_type": "code",
   "execution_count": null,
   "metadata": {
    "collapsed": true
   },
   "outputs": [],
   "source": []
  }
 ],
 "metadata": {
  "kernelspec": {
   "display_name": "Python 2",
   "language": "python",
   "name": "python2"
  },
  "language_info": {
   "codemirror_mode": {
    "name": "ipython",
    "version": 2
   },
   "file_extension": ".py",
   "mimetype": "text/x-python",
   "name": "python",
   "nbconvert_exporter": "python",
   "pygments_lexer": "ipython2",
   "version": "2.7.13"
  }
 },
 "nbformat": 4,
 "nbformat_minor": 2
}
